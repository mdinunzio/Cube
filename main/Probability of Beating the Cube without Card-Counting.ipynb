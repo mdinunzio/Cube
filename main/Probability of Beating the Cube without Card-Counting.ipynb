{
 "cells": [
  {
   "cell_type": "markdown",
   "metadata": {},
   "source": [
    "# Probability of Beating the Cube without Card-Counting"
   ]
  },
  {
   "cell_type": "code",
   "execution_count": 36,
   "metadata": {},
   "outputs": [],
   "source": [
    "from models import *\n",
    "import pandas as pd\n",
    "import datetime\n",
    "import matplotlib.pyplot as plt\n",
    "import seaborn as sns\n",
    "\n",
    "sns.set()"
   ]
  },
  {
   "cell_type": "markdown",
   "metadata": {},
   "source": [
    "An example initialized cube game <br>\n",
    "(A=Alive, D=Dead)"
   ]
  },
  {
   "cell_type": "code",
   "execution_count": 12,
   "metadata": {},
   "outputs": [
    {
     "name": "stdout",
     "output_type": "stream",
     "text": [
      "43 cards in deck\n",
      "9 cards in cube\n",
      "9 alive, 0 dead:\n",
      "\n",
      "6 of Diamonds (A)      8 of Spades (A)        King of Clubs (A)      \n",
      "5 of Hearts (A)        5 of Spades (A)        Queen of Hearts (A)    \n",
      "2 of Clubs (A)         10 of Diamonds (A)     6 of Spades (A)        \n",
      "\n"
     ]
    }
   ],
   "source": [
    "cube = Cube()\n",
    "print(cube)"
   ]
  },
  {
   "cell_type": "markdown",
   "metadata": {},
   "source": [
    "Define some helper functionality"
   ]
  },
  {
   "cell_type": "code",
   "execution_count": 13,
   "metadata": {},
   "outputs": [],
   "source": [
    "record_list = []\n",
    "\n",
    "\n",
    "def record_simulation():\n",
    "    record = dict()\n",
    "    cube = Cube()\n",
    "    while True:\n",
    "        me = cube.get_most_extreme()\n",
    "        if me[1].value > 8:\n",
    "            cube.bet(me[0], higher=False)\n",
    "        else:\n",
    "            cube.bet(me[0], higher=True)\n",
    "        if cube.life_count == 0:\n",
    "            record['win'] = False\n",
    "            break\n",
    "        elif len(cube.deck) == 0:\n",
    "            record['win'] = True\n",
    "            break\n",
    "    record['cards_left'] = len(cube.deck)\n",
    "    return record"
   ]
  },
  {
   "cell_type": "markdown",
   "metadata": {},
   "source": [
    "Run 1 million simulations"
   ]
  },
  {
   "cell_type": "code",
   "execution_count": 14,
   "metadata": {},
   "outputs": [
    {
     "name": "stdout",
     "output_type": "stream",
     "text": [
      "2020-08-10 19:59:15.244753 Game 100,000\n",
      "2020-08-10 19:59:37.017487 Game 200,000\n",
      "2020-08-10 19:59:59.263795 Game 300,000\n",
      "2020-08-10 20:00:20.957470 Game 400,000\n",
      "2020-08-10 20:00:43.122591 Game 500,000\n",
      "2020-08-10 20:01:04.905807 Game 600,000\n",
      "2020-08-10 20:01:26.993808 Game 700,000\n",
      "2020-08-10 20:01:49.134690 Game 800,000\n",
      "2020-08-10 20:02:10.785087 Game 900,000\n",
      "2020-08-10 20:02:32.364068 Game 1,000,000\n"
     ]
    }
   ],
   "source": [
    "for i in range(1, 1000001):\n",
    "    if i % 100000 == 0:\n",
    "        tic = datetime.datetime.now()\n",
    "        print(tic, f'Game {i:,.0f}')\n",
    "    record_list.append(record_simulation())"
   ]
  },
  {
   "cell_type": "code",
   "execution_count": 18,
   "metadata": {},
   "outputs": [
    {
     "name": "stdout",
     "output_type": "stream",
     "text": [
      "Win Rate: 6.93%\n",
      "Average Cards Remaining: 13.05\n"
     ]
    }
   ],
   "source": [
    "df = pd.DataFrame(record_list)\n",
    "win_rate = df['win'].sum() / len(df) * 100\n",
    "ave_cards_left = df['cards_left'].mean()\n",
    "\n",
    "print(f'Win Rate: {win_rate:.2f}%')\n",
    "print(f'Average Cards Remaining: {ave_cards_left:.2f}')"
   ]
  },
  {
   "cell_type": "code",
   "execution_count": 49,
   "metadata": {},
   "outputs": [],
   "source": [
    "cards_left = df.groupby('cards_left')['cards_left'].count() / 1000000"
   ]
  },
  {
   "cell_type": "code",
   "execution_count": 54,
   "metadata": {},
   "outputs": [
    {
     "data": {
      "text/plain": [
       "Text(0, 0.5, 'Fraction of Games')"
      ]
     },
     "execution_count": 54,
     "metadata": {},
     "output_type": "execute_result"
    },
    {
     "data": {
      "image/png": "[encoded data removed]",
      "text/plain": [
       "<Figure size 432x288 with 1 Axes>"
      ]
     },
     "metadata": {},
     "output_type": "display_data"
    }
   ],
   "source": [
    "fig, ax = plt.subplots(1)\n",
    "ax.bar(cards_left.index, cards_left.values)\n",
    "ax.set_title('Distribution of Remaining Cards')\n",
    "plt.xlabel('Remaining Cards')\n",
    "plt.ylabel('Fraction of Games')"
   ]
  }
 ],
 "metadata": {
  "kernelspec": {
   "display_name": "Python 3",
   "language": "python",
   "name": "python3"
  },
  "language_info": {
   "codemirror_mode": {
    "name": "ipython",
    "version": 3
   },
   "file_extension": ".py",
   "mimetype": "text/x-python",
   "name": "python",
   "nbconvert_exporter": "python",
   "pygments_lexer": "ipython3",
   "version": "3.7.6"
  }
 },
 "nbformat": 4,
 "nbformat_minor": 2
}
